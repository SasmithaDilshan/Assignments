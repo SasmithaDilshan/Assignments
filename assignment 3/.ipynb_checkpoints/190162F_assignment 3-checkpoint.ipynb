{
 "cells": [
  {
   "cell_type": "markdown",
   "id": "05d6ff58",
   "metadata": {},
   "source": [
    "# EN2550: Assignment 03 on Object Counting on a Conveyor Belt\n",
    "\n",
    "## Name : Ekanayaka S.D.                                                                      \n",
    "## Index : 190162F\n",
    "## Connected Component Analysis\n",
    "\n",
    "In this part, we will generate an indexed image representing connected components in conveyor_f101.png image. Notice that, as there are three square nuts and one hexagonal nut in the image, there will be five connected components (backgound will be assigned the label 0).\n",
    "\n",
    "Open the hexnut_template.png, squarenut_template.png and conveyor_f100.png and display. This is done for you."
   ]
  },
  {
   "cell_type": "code",
   "execution_count": 2,
   "id": "2c95cd3e",
   "metadata": {},
   "outputs": [
    {
     "data": {
      "image/png": "[encoded data removed]",
      "text/plain": [
       "<Figure size 432x288 with 3 Axes>"
      ]
     },
     "metadata": {
      "needs_background": "light"
     },
     "output_type": "display_data"
    }
   ],
   "source": [
    "import cv2 as cv\n",
    "import numpy as np\n",
    "import matplotlib.pyplot as plt\n",
    "\n",
    "hexnut_template = cv.imread('hexnut_template.png', cv.IMREAD_COLOR)\n",
    "squarenut_template =  cv.imread('squarenut_template.png', cv.IMREAD_COLOR)\n",
    "conveyor_f100 =  cv.imread('conveyor_f100.png', cv.IMREAD_COLOR)\n",
    "\n",
    "fig, ax = plt. subplots(1,3)\n",
    "ax[0].imshow(cv.cvtColor(hexnut_template, cv.COLOR_RGB2BGR))\n",
    "ax[1].imshow(cv.cvtColor(squarenut_template, cv.COLOR_RGB2BGR))\n",
    "ax[2].imshow(cv.cvtColor(conveyor_f100, cv.COLOR_RGB2BGR))\n",
    "plt.show()"
   ]
  },
  {
   "cell_type": "markdown",
   "id": "24c269a5",
   "metadata": {},
   "source": [
    "Convert the images to grayscale and apply Otsu's thresholding to obtain the binarized image. Do this for both the templates and belt images. See https://docs.opencv.org/master/d7/d4d/tutorial_py_thresholding.html for a guide. State the threshold value (automatically) selected in the operation. Display the output images."
   ]
  },
  {
   "cell_type": "code",
   "execution_count": 3,
   "id": "df213bda",
   "metadata": {},
   "outputs": [
    {
     "data": {
      "image/png": "[encoded data removed]",
      "text/plain": [
       "<Figure size 432x288 with 3 Axes>"
      ]
     },
     "metadata": {
      "needs_background": "light"
     },
     "output_type": "display_data"
    },
    {
     "name": "stdout",
     "output_type": "stream",
     "text": [
      "20.0 20.0 20.0\n"
     ]
    }
   ],
   "source": [
    "img1=cv.cvtColor(hexnut_template, cv.COLOR_BGR2GRAY)\n",
    "img2=cv.cvtColor(squarenut_template, cv.COLOR_BGR2GRAY)\n",
    "img3=cv.cvtColor(conveyor_f100,cv.COLOR_BGR2GRAY)\n",
    "\n",
    "\n",
    "# Otsu's thresholding\n",
    "\n",
    "ret1,th1 = cv.threshold(img1,0,255,cv.THRESH_BINARY+cv.THRESH_OTSU)\n",
    "ret2,th2 = cv.threshold(img2,0,255,cv.THRESH_BINARY+cv.THRESH_OTSU)\n",
    "ret3,th3 = cv.threshold(img3,0,255,cv.THRESH_BINARY+cv.THRESH_OTSU)\n",
    "fig, ax = plt. subplots(1,3)\n",
    "ax[0].imshow(cv.cvtColor(th1, cv.COLOR_GRAY2RGB))\n",
    "ax[1].imshow(cv.cvtColor(th2, cv.COLOR_GRAY2RGB))\n",
    "ax[2].imshow(cv.cvtColor(th3, cv.COLOR_GRAY2RGB))\n",
    "plt.show()\n",
    "print(ret1,ret2,ret3)"
   ]
  },
  {
   "cell_type": "markdown",
   "id": "6f90a388",
   "metadata": {},
   "source": [
    "Carry out morphological closing to remove small holes inside the foreground. Use a \n",
    "3\n",
    "×\n",
    "3\n",
    " kernel. See https://docs.opencv.org/master/d9/d61/tutorial_py_morphological_ops.html for a guide."
   ]
  },
  {
   "cell_type": "code",
   "execution_count": 4,
   "id": "13dc8161",
   "metadata": {},
   "outputs": [
    {
     "data": {
      "image/png": "[encoded data removed]",
      "text/plain": [
       "<Figure size 432x288 with 3 Axes>"
      ]
     },
     "metadata": {
      "needs_background": "light"
     },
     "output_type": "display_data"
    }
   ],
   "source": [
    "import numpy as np\n",
    "kernel = np.ones((3,3),np.uint8)\n",
    "closing1= cv.morphologyEx((cv.cvtColor(th1, cv.COLOR_GRAY2RGB)), cv.MORPH_CLOSE, kernel)\n",
    "closing2= cv.morphologyEx((cv.cvtColor(th2, cv.COLOR_GRAY2RGB)), cv.MORPH_CLOSE, kernel)\n",
    "closing3= cv.morphologyEx((cv.cvtColor(th3, cv.COLOR_GRAY2RGB)), cv.MORPH_CLOSE, kernel)\n",
    "fig, ax = plt. subplots(1,3)\n",
    "ax[0].imshow(closing1)\n",
    "ax[1].imshow(closing2)\n",
    "ax[2].imshow(closing3)\n",
    "plt.show()\n",
    "                          "
   ]
  },
  {
   "cell_type": "markdown",
   "id": "d427247a",
   "metadata": {},
   "source": [
    "## Connected components analysis for Hexnut template\n"
   ]
  },
  {
   "cell_type": "code",
   "execution_count": 5,
   "id": "5d070cfa",
   "metadata": {},
   "outputs": [
    {
     "name": "stdout",
     "output_type": "stream",
     "text": [
      "There are 3 connected components in Hexnut template.\n",
      "Statistics:\n",
      "[[  10   16  101   88 4724]\n",
      " [   0    0  120  120 7715]\n",
      " [  35   35   51   51 1961]]\n",
      "\n",
      "Centroids:\n",
      "[[59.83361558 59.22290432]\n",
      " [59.16863253 59.54257939]\n",
      " [60.         60.        ]]\n"
     ]
    }
   ],
   "source": [
    "connectivity = 4\n",
    "hex_num_labels,hex_labels,hex_stat,hex_cent = cv.connectedComponentsWithStats(th1, connectivity, cv.CV_32S)\n",
    "print('There are {} connected components in Hexnut template.'.format(hex_num_labels))\n",
    "print('Statistics:')\n",
    "print(hex_stat)\n",
    "print()\n",
    "print('Centroids:')\n",
    "print(hex_cent)"
   ]
  },
  {
   "cell_type": "markdown",
   "id": "e3bbfe23",
   "metadata": {},
   "source": [
    "## Connected components analysis for Squarenut template"
   ]
  },
  {
   "cell_type": "code",
   "execution_count": 6,
   "id": "dff34dea",
   "metadata": {},
   "outputs": [
    {
     "name": "stdout",
     "output_type": "stream",
     "text": [
      "There are 3 connected components in Squarenut template.\n",
      "Statistics:\n",
      "[[  24   24   72   72 3223]\n",
      " [   0    0  120  120 9216]\n",
      " [  35   35   51   51 1961]]\n",
      "\n",
      "Centroids:\n",
      "[[59.19578033 59.19578033]\n",
      " [59.5        59.5       ]\n",
      " [60.         60.        ]]\n"
     ]
    }
   ],
   "source": [
    "connectivity = 4\n",
    "sqr_num_labels,sqr_labels,sqr_stat,sqr_cent = cv.connectedComponentsWithStats(th2, connectivity, cv.CV_32S)\n",
    "print('There are {} connected components in Squarenut template.'.format(sqr_num_labels))\n",
    "print('Statistics:')\n",
    "print(sqr_stat)\n",
    "print()\n",
    "print('Centroids:')\n",
    "print(sqr_cent)"
   ]
  },
  {
   "cell_type": "markdown",
   "id": "636ad32e",
   "metadata": {},
   "source": [
    "## Connected components analysis for Conveyor belt"
   ]
  },
  {
   "cell_type": "code",
   "execution_count": 7,
   "id": "eeeac356",
   "metadata": {},
   "outputs": [
    {
     "name": "stdout",
     "output_type": "stream",
     "text": [
      "There are 6 connected components in Conveyor belt.\n",
      "Statistics:\n",
      "[[    650     150     896     501   13938]\n",
      " [      0       0    1920    1080 2051818]\n",
      " [   1475     175      51      51    1961]\n",
      " [   1275     375      51      51    1961]\n",
      " [   1475     475      51      51    1961]\n",
      " [    675     575      51      51    1961]]\n",
      "\n",
      "Centroids:\n",
      "[[1274.92050509  400.1106328 ]\n",
      " [ 956.24678115  540.8845999 ]\n",
      " [1500.          200.        ]\n",
      " [1300.          400.        ]\n",
      " [1500.          500.        ]\n",
      " [ 700.          600.        ]]\n"
     ]
    }
   ],
   "source": [
    "connectivity = 8\n",
    "belt_num_labels,belt_labels,belt_stat,belt_cent = cv.connectedComponentsWithStats(th3, connectivity, cv.CV_32S)\n",
    "print('There are {} connected components in Conveyor belt.'.format(belt_num_labels))\n",
    "print('Statistics:')\n",
    "print(belt_stat)\n",
    "print()\n",
    "print('Centroids:')\n",
    "print(belt_cent)"
   ]
  },
  {
   "cell_type": "markdown",
   "id": "bd52cb1e",
   "metadata": {},
   "source": [
    "## Contour analysis"
   ]
  },
  {
   "cell_type": "code",
   "execution_count": 8,
   "id": "daeb900d",
   "metadata": {},
   "outputs": [
    {
     "name": "stderr",
     "output_type": "stream",
     "text": [
      "Clipping input data to the valid range for imshow with RGB data ([0..1] for floats or [0..255] for integers).\n"
     ]
    },
    {
     "data": {
      "image/png": "[encoded data removed]",
      "text/plain": [
       "<Figure size 432x288 with 1 Axes>"
      ]
     },
     "metadata": {
      "needs_background": "light"
     },
     "output_type": "display_data"
    }
   ],
   "source": [
    "black_img=np.zeros(conveyor_f100.shape)\n",
    "contours, hierarchy = cv.findContours(th3, cv.RETR_TREE, cv.CHAIN_APPROX_SIMPLE)\n",
    "cnt = [contours[i] for i in range(1,9,2)]\n",
    "cv.drawContours(black_img, cnt, -1, (0,255,150), 3)\n",
    "plt.imshow(black_img)\n",
    "plt.axis('off')\n",
    "plt.show()"
   ]
  },
  {
   "cell_type": "markdown",
   "id": "c6b263d4",
   "metadata": {},
   "source": [
    "## Detecting Objects on a Synthetic Conveyor"
   ]
  },
  {
   "cell_type": "code",
   "execution_count": 27,
   "id": "34457f07",
   "metadata": {},
   "outputs": [
    {
     "name": "stdout",
     "output_type": "stream",
     "text": [
      "Can't receive frame (stream end?). Exiting.\n"
     ]
    }
   ],
   "source": [
    "cv.namedWindow('Conveyor', cv.WINDOW_NORMAL)\n",
    "cap = cv.VideoCapture('conveyor.mp4')\n",
    "f = 0\n",
    "F = []\n",
    "frame = []      \n",
    "while cap.isOpened():                                    \n",
    "    ret, frame = cap.read()\n",
    "    F.append(frame)\n",
    "    if not ret:\n",
    "        print(\"Can't receive frame (stream end?). Exiting.\")\n",
    "        break\n",
    "\n",
    "    f += 1\n",
    "    text = 'Frame:' + str(f)\n",
    "    cv.putText(frame,text , (100, 100), cv.FONT_HERSHEY_COMPLEX, 1, (0,250,0), 1, cv.LINE_AA)\n",
    "    cv.imshow('Conveyor', frame)\n",
    "\n",
    "    if cv.waitKey(1) == ord('q'):  \n",
    "        break\n",
    "\n",
    "cap.release()\n",
    "cv.destroyAllWindows()"
   ]
  },
  {
   "cell_type": "markdown",
   "id": "0e9f6497",
   "metadata": {},
   "source": [
    "## Number of matching hexagonal nuts"
   ]
  },
  {
   "cell_type": "code",
   "execution_count": 26,
   "id": "aa07bd99",
   "metadata": {},
   "outputs": [
    {
     "name": "stdout",
     "output_type": "stream",
     "text": [
      "Number of matching hexagonal nuts =  2\n"
     ]
    }
   ],
   "source": [
    "total_matches=0\n",
    "for i in range(len(contours)):\n",
    "    ret = cv.matchShapes(contours[i],contours[7],1,0.0)\n",
    "    if ret==0.0:\n",
    "        total_matches+=1\n",
    "print('Number of matching hexagonal nuts = ',total_matches)"
   ]
  },
  {
   "cell_type": "markdown",
   "id": "84844ce2",
   "metadata": {},
   "source": [
    "## Detecting Objects on a Synthetic Conveyor and counting hexagonal nuts"
   ]
  },
  {
   "cell_type": "code",
   "execution_count": 28,
   "id": "f9014d6c",
   "metadata": {},
   "outputs": [],
   "source": [
    "total_nuts=0\n",
    "frame_count=0\n",
    "\n",
    "for frm in F[:-1]:\n",
    "    \n",
    "    frame_total=0\n",
    "    left_center=[]  \n",
    "    img_gray = cv.cvtColor(frm,cv.COLOR_BGR2GRAY)\n",
    "    ret_f,thresh = cv.threshold(img_gray,0,255,cv.THRESH_BINARY+cv.THRESH_OTSU)\n",
    "    contours_frame,hierarchy_frame = cv.findContours(thresh,cv.RETR_TREE, cv.CHAIN_APPROX_SIMPLE)\n",
    "    cntn=[]\n",
    "    hexa =[]\n",
    "    for cn in contours_frame:\n",
    "        if cv.contourArea(cn)>4500 and cv.contourArea(cn)<7500:\n",
    "            cntn.append(cn)\n",
    "        \n",
    "    for cn in cntn:\n",
    "        ret_count = cv.matchShapes(cn,contours[7],1,0.0)\n",
    "        \n",
    "        if (0.004<ret_count<0.006):\n",
    "            frame_total+=1\n",
    "            hexa.append(cn)\n",
    "                \n",
    "    for i in hexa:\n",
    "        M = cv.moments(i)\n",
    "        cx = int(M['m10']/M['m00'])\n",
    "        if (1010-cx)>=0:\n",
    "            left_center.append(cx)\n",
    "    for i in left_center:\n",
    "        if 1010-i<10:\n",
    "            total_nuts+=1\n",
    "        \n",
    "    \n",
    "    \n",
    "    frame_count+=1\n",
    "    in_text= 'In frame : '+str(frame_total)\n",
    "    upto_text='Upto frame : '+str(total_nuts)\n",
    "    cv.putText(frm,in_text,(100,150),cv.FONT_HERSHEY_COMPLEX,1,(0,250,0),1,cv.LINE_AA)\n",
    "    cv.putText(frm,upto_text,(100,180),cv.FONT_HERSHEY_COMPLEX,1,(0,250,0),1,cv.LINE_AA)"
   ]
  },
  {
   "cell_type": "code",
   "execution_count": 29,
   "id": "decb8694",
   "metadata": {},
   "outputs": [],
   "source": [
    "# Writing the video\n",
    "\n",
    "frame_array = F[:-1]\n",
    "shape = (1080, 1920, 3)\n",
    "\n",
    "\n",
    "\n",
    "out = cv.VideoWriter('./conveyor_result_190162F.mp4',cv.VideoWriter_fourcc(*'h264'), 30, (shape[1], shape[0]))\n",
    " \n",
    "for i in range(len(frame_array)):\n",
    "    cv.imshow('Frame', frame_array[i])\n",
    "    if cv.waitKey(1) == ord('q'):\n",
    "        break\n",
    "    out.write(frame_array[i])\n",
    "\n",
    "out.release()\n",
    "cv.destroyAllWindows()"
   ]
  },
  {
   "cell_type": "markdown",
   "id": "d4efed63",
   "metadata": {},
   "source": [
    "##  github Link :  https://github.com/sasdil/EN-2550-Computer-Vision"
   ]
  }
 ],
 "metadata": {
  "kernelspec": {
   "display_name": "Python 3 (ipykernel)",
   "language": "python",
   "name": "python3"
  },
  "language_info": {
   "codemirror_mode": {
    "name": "ipython",
    "version": 3
   },
   "file_extension": ".py",
   "mimetype": "text/x-python",
   "name": "python",
   "nbconvert_exporter": "python",
   "pygments_lexer": "ipython3",
   "version": "3.9.7"
  }
 },
 "nbformat": 4,
 "nbformat_minor": 5
}
